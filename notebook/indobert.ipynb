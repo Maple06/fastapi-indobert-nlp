{
  "cells": [
    {
      "cell_type": "code",
      "execution_count": 1,
      "metadata": {
        "id": "JGcZL9JhPGTu"
      },
      "outputs": [
        {
          "name": "stderr",
          "output_type": "stream",
          "text": [
            "c:\\Users\\Zhafran Pratama\\AppData\\Local\\Programs\\Python\\Python37\\lib\\site-packages\\numpy\\_distributor_init.py:32: UserWarning: loaded more than 1 DLL from .libs:\n",
            "c:\\Users\\Zhafran Pratama\\AppData\\Local\\Programs\\Python\\Python37\\lib\\site-packages\\numpy\\.libs\\libopenblas.PYQHXLVVQ7VESDPUVUADXEVJOBGHJPAY.gfortran-win_amd64.dll\n",
            "c:\\Users\\Zhafran Pratama\\AppData\\Local\\Programs\\Python\\Python37\\lib\\site-packages\\numpy\\.libs\\libopenblas.WCDJNK7YVMPZQ2ME2ZZHJJRJ3JIKNDB7.gfortran-win_amd64.dll\n",
            "  stacklevel=1)\n",
            "c:\\Users\\Zhafran Pratama\\AppData\\Local\\Programs\\Python\\Python37\\lib\\site-packages\\tqdm\\auto.py:22: TqdmWarning: IProgress not found. Please update jupyter and ipywidgets. See https://ipywidgets.readthedocs.io/en/stable/user_install.html\n",
            "  from .autonotebook import tqdm as notebook_tqdm\n"
          ]
        }
      ],
      "source": [
        "import numpy as np\n",
        "import pandas as pd\n",
        "import torch\n",
        "import torch.nn as nn\n",
        "from sklearn.model_selection import train_test_split\n",
        "from sklearn.metrics import classification_report\n",
        "import transformers\n",
        "from transformers import BertTokenizer, BertForSequenceClassification\n",
        "\n",
        "# specify GPU\n",
        "device = torch.device(\"cuda\" if torch.cuda.is_available() else \"cpu\")"
      ]
    },
    {
      "cell_type": "code",
      "execution_count": 2,
      "metadata": {
        "colab": {
          "base_uri": "https://localhost:8080/",
          "height": 261
        },
        "id": "rBKt9o66PGTz",
        "outputId": "47ab2cad-c8ed-4114-e54f-9b0c43d24cf6"
      },
      "outputs": [
        {
          "data": {
            "text/html": [
              "<div>\n",
              "<style scoped>\n",
              "    .dataframe tbody tr th:only-of-type {\n",
              "        vertical-align: middle;\n",
              "    }\n",
              "\n",
              "    .dataframe tbody tr th {\n",
              "        vertical-align: top;\n",
              "    }\n",
              "\n",
              "    .dataframe thead th {\n",
              "        text-align: right;\n",
              "    }\n",
              "</style>\n",
              "<table border=\"1\" class=\"dataframe\">\n",
              "  <thead>\n",
              "    <tr style=\"text-align: right;\">\n",
              "      <th></th>\n",
              "      <th>label</th>\n",
              "      <th>text</th>\n",
              "    </tr>\n",
              "  </thead>\n",
              "  <tbody>\n",
              "    <tr>\n",
              "      <th>0</th>\n",
              "      <td>Lifestyle</td>\n",
              "      <td>celebrate the new year together at finnsbeachclub</td>\n",
              "    </tr>\n",
              "    <tr>\n",
              "      <th>1</th>\n",
              "      <td>Lifestyle</td>\n",
              "      <td>friendship bestie bali beachclubbali beachclub...</td>\n",
              "    </tr>\n",
              "    <tr>\n",
              "      <th>2</th>\n",
              "      <td>Lifestyle</td>\n",
              "      <td>nah kan bandel sih</td>\n",
              "    </tr>\n",
              "    <tr>\n",
              "      <th>3</th>\n",
              "      <td>Otomotif</td>\n",
              "      <td>dmotovlog rs125 apriliars125</td>\n",
              "    </tr>\n",
              "    <tr>\n",
              "      <th>4</th>\n",
              "      <td>Music</td>\n",
              "      <td>ilovesoundnya</td>\n",
              "    </tr>\n",
              "  </tbody>\n",
              "</table>\n",
              "</div>"
            ],
            "text/plain": [
              "       label                                               text\n",
              "0  Lifestyle  celebrate the new year together at finnsbeachclub\n",
              "1  Lifestyle  friendship bestie bali beachclubbali beachclub...\n",
              "2  Lifestyle                                 nah kan bandel sih\n",
              "3   Otomotif                       dmotovlog rs125 apriliars125\n",
              "4      Music                                      ilovesoundnya"
            ]
          },
          "execution_count": 2,
          "metadata": {},
          "output_type": "execute_result"
        }
      ],
      "source": [
        "df = pd.read_csv(\"../data/dataset.csv\")\n",
        "\n",
        "# Cleaning dataset\n",
        "import re\n",
        "\n",
        "def clean_text(sentence):\n",
        "    sentence = str(sentence)\n",
        "    sentence = sentence.lower()\n",
        "    sentence = re.sub('\\W', ' ', sentence)\n",
        "    sentence = re.sub('\\s+', ' ', sentence)\n",
        "    sentence = sentence.strip(' ')\n",
        "    return sentence\n",
        "\n",
        "for i, sentence in enumerate(df['text']):\n",
        "    try:\n",
        "        df['text'][i] = clean_text(sentence)\n",
        "    except:\n",
        "        pass\n",
        "\n",
        "df.head()"
      ]
    },
    {
      "cell_type": "code",
      "execution_count": 3,
      "metadata": {
        "colab": {
          "base_uri": "https://localhost:8080/",
          "height": 206
        },
        "id": "pDORs9tcPGT0",
        "outputId": "db23ded6-55de-4be8-8715-6b980948bc2f"
      },
      "outputs": [
        {
          "data": {
            "text/html": [
              "<div>\n",
              "<style scoped>\n",
              "    .dataframe tbody tr th:only-of-type {\n",
              "        vertical-align: middle;\n",
              "    }\n",
              "\n",
              "    .dataframe tbody tr th {\n",
              "        vertical-align: top;\n",
              "    }\n",
              "\n",
              "    .dataframe thead th {\n",
              "        text-align: right;\n",
              "    }\n",
              "</style>\n",
              "<table border=\"1\" class=\"dataframe\">\n",
              "  <thead>\n",
              "    <tr style=\"text-align: right;\">\n",
              "      <th></th>\n",
              "      <th>label</th>\n",
              "      <th>text</th>\n",
              "    </tr>\n",
              "  </thead>\n",
              "  <tbody>\n",
              "    <tr>\n",
              "      <th>0</th>\n",
              "      <td>0</td>\n",
              "      <td>celebrate the new year together at finnsbeachclub</td>\n",
              "    </tr>\n",
              "    <tr>\n",
              "      <th>1</th>\n",
              "      <td>0</td>\n",
              "      <td>friendship bestie bali beachclubbali beachclub...</td>\n",
              "    </tr>\n",
              "    <tr>\n",
              "      <th>2</th>\n",
              "      <td>0</td>\n",
              "      <td>nah kan bandel sih</td>\n",
              "    </tr>\n",
              "    <tr>\n",
              "      <th>3</th>\n",
              "      <td>1</td>\n",
              "      <td>dmotovlog rs125 apriliars125</td>\n",
              "    </tr>\n",
              "    <tr>\n",
              "      <th>4</th>\n",
              "      <td>2</td>\n",
              "      <td>ilovesoundnya</td>\n",
              "    </tr>\n",
              "  </tbody>\n",
              "</table>\n",
              "</div>"
            ],
            "text/plain": [
              "   label                                               text\n",
              "0      0  celebrate the new year together at finnsbeachclub\n",
              "1      0  friendship bestie bali beachclubbali beachclub...\n",
              "2      0                                 nah kan bandel sih\n",
              "3      1                       dmotovlog rs125 apriliars125\n",
              "4      2                                      ilovesoundnya"
            ]
          },
          "execution_count": 3,
          "metadata": {},
          "output_type": "execute_result"
        }
      ],
      "source": [
        "category_list = ['Lifestyle', 'Otomotif', 'Music', 'Beauty', 'Fashion', 'Traveling', 'Food', 'Finance', 'Parenting', 'Technology', 'Health', 'Gigs Worker', 'Homedecor', 'Gamers', 'Sport', 'Reviewer', 'Kpop', 'Politik']\n",
        "\n",
        "df['label'] = df['label'].replace(category_list,range(len(category_list)))\n",
        "df.head()"
      ]
    },
    {
      "cell_type": "code",
      "execution_count": 4,
      "metadata": {
        "id": "LLoFzwt0PGT1"
      },
      "outputs": [],
      "source": [
        "# split train dataset into train, validation and test sets\n",
        "train_text, temp_text, train_labels, temp_labels = train_test_split(df['text'], df['label'], \n",
        "                                                                    random_state=2018, \n",
        "                                                                    test_size=0.3, \n",
        "                                                                    stratify=df['label'])\n",
        "\n",
        "\n",
        "val_text, _, val_labels, _ = train_test_split(temp_text, temp_labels, \n",
        "                                                                random_state=2018, \n",
        "                                                                test_size=0.5, \n",
        "                                                                stratify=temp_labels)"
      ]
    },
    {
      "cell_type": "code",
      "execution_count": 5,
      "metadata": {
        "colab": {
          "base_uri": "https://localhost:8080/",
          "height": 447
        },
        "id": "NcmSs5CkPGT2",
        "outputId": "c9dfe298-186f-4540-e944-cbc4ce55ad14"
      },
      "outputs": [
        {
          "data": {
            "text/plain": [
              "<AxesSubplot:>"
            ]
          },
          "execution_count": 5,
          "metadata": {},
          "output_type": "execute_result"
        },
        {
          "data": {
            "image/png": "[encoded data removed]",
            "text/plain": [
              "<Figure size 640x480 with 1 Axes>"
            ]
          },
          "metadata": {},
          "output_type": "display_data"
        }
      ],
      "source": [
        "# Average amount of characters in 1 text\n",
        "seq_len = [len(i) for i in train_text]\n",
        "\n",
        "pd.Series(seq_len).hist(bins = 30)"
      ]
    },
    {
      "cell_type": "code",
      "execution_count": 6,
      "metadata": {
        "colab": {
          "base_uri": "https://localhost:8080/"
        },
        "id": "Dhkf9mxEPGT3",
        "outputId": "bcbdee37-7292-491a-d488-63c2c3552322"
      },
      "outputs": [],
      "source": [
        "# Tokenize and encode sequences in the TRAINING set\n",
        "tokenizer = BertTokenizer.from_pretrained(\"indobenchmark/indobert-base-p1\")\n",
        "tokens_train = tokenizer.batch_encode_plus(\n",
        "    train_text.tolist(),\n",
        "    max_length = 100,\n",
        "    padding='longest',\n",
        "    truncation=True\n",
        ")\n",
        "\n",
        "# Tokenize and encode sequences in the VALIDATION set\n",
        "tokens_val = tokenizer.batch_encode_plus(\n",
        "    val_text.tolist(),\n",
        "    max_length = 100,\n",
        "    padding='longest',\n",
        "    truncation=True\n",
        ")"
      ]
    },
    {
      "cell_type": "code",
      "execution_count": 7,
      "metadata": {
        "id": "ITATWiYTPGT4"
      },
      "outputs": [],
      "source": [
        "## convert lists to tensors\n",
        "\n",
        "train_seq = torch.tensor(tokens_train['input_ids'])\n",
        "train_mask = torch.tensor(tokens_train['attention_mask'])\n",
        "train_y = torch.tensor(train_labels.tolist())\n",
        "\n",
        "val_seq = torch.tensor(tokens_val['input_ids'])\n",
        "val_mask = torch.tensor(tokens_val['attention_mask'])\n",
        "val_y = torch.tensor(val_labels.tolist())"
      ]
    },
    {
      "cell_type": "code",
      "execution_count": 8,
      "metadata": {
        "id": "LYEcIBQiPGT4"
      },
      "outputs": [],
      "source": [
        "from torch.utils.data import TensorDataset, DataLoader, RandomSampler, SequentialSampler\n",
        "\n",
        "#define a batch size\n",
        "batch_size = 16\n",
        "\n",
        "# wrap tensors\n",
        "train_data = TensorDataset(train_seq, train_mask, train_y)\n",
        "\n",
        "# sampler for sampling the data during training\n",
        "train_sampler = RandomSampler(train_data)\n",
        "\n",
        "# dataLoader for train set\n",
        "train_dataloader = DataLoader(train_data, sampler=train_sampler, batch_size=batch_size)\n",
        "\n",
        "# wrap tensors\n",
        "val_data = TensorDataset(val_seq, val_mask, val_y)\n",
        "\n",
        "# sampler for sampling the data during training\n",
        "val_sampler = SequentialSampler(val_data)\n",
        "\n",
        "# dataLoader for validation set\n",
        "val_dataloader = DataLoader(val_data, sampler = val_sampler, batch_size=batch_size)"
      ]
    },
    {
      "cell_type": "code",
      "execution_count": 9,
      "metadata": {
        "colab": {
          "base_uri": "https://localhost:8080/"
        },
        "id": "RrSwXwCOPGT5",
        "outputId": "adefdf2e-ad8e-4e2a-8e7f-837f97c6d0d6"
      },
      "outputs": [
        {
          "name": "stderr",
          "output_type": "stream",
          "text": [
            "Some weights of BertForSequenceClassification were not initialized from the model checkpoint at indobenchmark/indobert-base-p1 and are newly initialized: ['classifier.bias', 'classifier.weight']\n",
            "You should probably TRAIN this model on a down-stream task to be able to use it for predictions and inference.\n"
          ]
        }
      ],
      "source": [
        "import platform\n",
        "\n",
        "# pass the pre-trained BERT to our define architecture\n",
        "model = BertForSequenceClassification.from_pretrained(\"indobenchmark/indobert-base-p1\", num_labels=18)\n",
        "# push the model to GPU\n",
        "model = model.to(device)\n",
        "if device == \"cuda\":\n",
        "    print(\"Using device:\", torch.cuda.get_device_name(0), flush=True)\n",
        "elif device == \"cpu\":\n",
        "    print(\"Using device:\", platform.processor(), flush=True)"
      ]
    },
    {
      "cell_type": "code",
      "execution_count": 10,
      "metadata": {
        "colab": {
          "base_uri": "https://localhost:8080/"
        },
        "id": "sxmigToHPGT6",
        "outputId": "5f060a3f-0679-4e1d-98ff-6d00e88a227f"
      },
      "outputs": [],
      "source": [
        "# optimizer from hugging face transformers\n",
        "from torch.optim import AdamW\n",
        "\n",
        "# define the optimizer\n",
        "optimizer = AdamW(model.parameters(),\n",
        "                  lr = 1e-5)          # learning rate"
      ]
    },
    {
      "cell_type": "code",
      "execution_count": 11,
      "metadata": {
        "colab": {
          "base_uri": "https://localhost:8080/"
        },
        "id": "XT_UBOboPGT6",
        "outputId": "2c28ab4b-935f-46b2-d1ba-e8f918f37eb0"
      },
      "outputs": [
        {
          "name": "stdout",
          "output_type": "stream",
          "text": [
            "Class Weights: [ 0.67297169  5.92976939  3.11166117  0.16878506  1.40931739  1.63686343\n",
            "  0.24903152  2.43626184  1.32049486  1.65409357  0.72082059 24.17521368\n",
            "  4.5547504   3.49197531  1.95203589  2.2773752  28.57070707 14.28535354]\n"
          ]
        }
      ],
      "source": [
        "from sklearn.utils.class_weight import compute_class_weight\n",
        "\n",
        "#compute the class weights\n",
        "# class_weights = compute_class_weight('balanced', np.unique(train_labels), train_labels)\n",
        "class_weights = compute_class_weight(\n",
        "                                        class_weight = \"balanced\",\n",
        "                                        classes = np.unique(train_labels),\n",
        "                                        y = train_labels                                                 \n",
        "                                    )\n",
        "\n",
        "print(\"Class Weights:\",class_weights)"
      ]
    },
    {
      "cell_type": "code",
      "execution_count": 12,
      "metadata": {
        "id": "kHxLXYWjPGT7"
      },
      "outputs": [],
      "source": [
        "# converting list of class weights to a tensor\n",
        "weights= torch.tensor(class_weights,dtype=torch.float)\n",
        "\n",
        "# push to GPU\n",
        "weights = weights.to(device)\n",
        "\n",
        "# define the loss function\n",
        "cross_entropy  = nn.CrossEntropyLoss()\n",
        "\n",
        "# number of training epochs\n",
        "epochs = 10"
      ]
    },
    {
      "cell_type": "code",
      "execution_count": 13,
      "metadata": {
        "id": "HbduzWFwPGT7"
      },
      "outputs": [],
      "source": [
        "# function to train the model\n",
        "def train():\n",
        "  \n",
        "  model.train()\n",
        "\n",
        "  total_loss, total_accuracy = 0, 0\n",
        "  \n",
        "  # empty list to save model predictions\n",
        "  total_preds=[]\n",
        "  \n",
        "  # iterate over batches\n",
        "  for step,batch in enumerate(train_dataloader):\n",
        "    \n",
        "    # progress update after every 50 batches.\n",
        "    if step % 50 == 0 and not step == 0:\n",
        "      print('  Batch {:>5,}  of  {:>5,}.'.format(step, len(train_dataloader)))\n",
        "\n",
        "    # push the batch to gpu\n",
        "    batch = [r.to(device) for r in batch]\n",
        " \n",
        "    sent_id, mask, labels = batch\n",
        "\n",
        "    # clear previously calculated gradients \n",
        "    model.zero_grad()        \n",
        "\n",
        "    # get model predictions for the current batch\n",
        "    preds = model(sent_id, mask)\n",
        "\n",
        "    # compute the loss between actual and predicted values\n",
        "    loss = cross_entropy(preds.logits, labels)\n",
        "\n",
        "    # add on to the total loss\n",
        "    total_loss = total_loss + loss.item()\n",
        "\n",
        "    # backward pass to calculate the gradients\n",
        "    loss.backward()\n",
        "\n",
        "    # clip the the gradients to 1.0. It helps in preventing the exploding gradient problem\n",
        "    torch.nn.utils.clip_grad_norm_(model.parameters(), 1.0)\n",
        "\n",
        "    # update parameters\n",
        "    optimizer.step()\n",
        "\n",
        "    # append the model predictions\n",
        "    total_preds.append(preds)\n",
        "\n",
        "    # calculate the accuracy for this batch\n",
        "    _, pred_labels = torch.max(preds.logits, dim=1)\n",
        "    accuracy = torch.sum(pred_labels == labels).item() / labels.size(0)\n",
        "    total_accuracy += accuracy\n",
        "\n",
        "  # compute the training loss of the epoch\n",
        "  avg_loss = total_loss / len(train_dataloader)\n",
        "  avg_accuracy = total_accuracy / len(train_dataloader)\n",
        "  \n",
        "  # predictions are in the form of (no. of batches, size of batch, no. of classes).\n",
        "  # reshape the predictions in form of (number of samples, no. of classes)\n",
        "  total_preds  = np.concatenate([total_preds], axis=0)\n",
        "\n",
        "  #returns the loss and predictions\n",
        "  return avg_loss, avg_accuracy, total_preds"
      ]
    },
    {
      "cell_type": "code",
      "execution_count": 14,
      "metadata": {
        "id": "YE274L0GPGT8"
      },
      "outputs": [],
      "source": [
        "# function for evaluating the model\n",
        "def evaluate():\n",
        "  \n",
        "  print(\"\\nEvaluating...\")\n",
        "  \n",
        "  # deactivate dropout layers\n",
        "  model.eval()\n",
        "\n",
        "  total_loss, total_accuracy = 0, 0\n",
        "  \n",
        "  # empty list to save the model predictions\n",
        "  total_preds = []\n",
        "\n",
        "  # iterate over batches\n",
        "  for step,batch in enumerate(val_dataloader):\n",
        "    \n",
        "    # Progress update every 50 batches.\n",
        "    if step % 50 == 0 and not step == 0:\n",
        "            \n",
        "      # Report progress.\n",
        "      print('  Batch {:>5,}  of  {:>5,}.'.format(step, len(val_dataloader)))\n",
        "\n",
        "    # push the batch to gpu\n",
        "    batch = [t.to(device) for t in batch]\n",
        "\n",
        "    sent_id, mask, labels = batch\n",
        "\n",
        "    # deactivate autograd\n",
        "    with torch.no_grad():\n",
        "      \n",
        "      # model predictions\n",
        "      preds = model(sent_id, mask)\n",
        "\n",
        "      # compute the validation loss between actual and predicted values\n",
        "      loss = cross_entropy(preds.logits,labels)\n",
        "\n",
        "      total_loss = total_loss + loss.item()\n",
        "\n",
        "      total_preds.append(preds)\n",
        "\n",
        "    # calculate the accuracy for this batch\n",
        "    _, pred_labels = torch.max(preds.logits, dim=1)\n",
        "    accuracy = torch.sum(pred_labels == labels).item() / labels.size(0)\n",
        "    total_accuracy += accuracy\n",
        "\n",
        "  # compute the validation loss of the epoch\n",
        "  avg_loss = total_loss / len(val_dataloader)\n",
        "  avg_accuracy = total_accuracy / len(val_dataloader)\n",
        "\n",
        "  # reshape the predictions in form of (number of samples, no. of classes)\n",
        "  total_preds  = np.concatenate([total_preds], axis=0)\n",
        "\n",
        "  return avg_loss, avg_accuracy, total_preds"
      ]
    },
    {
      "cell_type": "code",
      "execution_count": 15,
      "metadata": {
        "colab": {
          "base_uri": "https://localhost:8080/"
        },
        "id": "TL24y8yzPGT9",
        "outputId": "5fc233db-567c-47f2-e940-c7ac8620b0f7"
      },
      "outputs": [
        {
          "name": "stdout",
          "output_type": "stream",
          "text": [
            "\n",
            " Epoch 1 / 10\n",
            "  Batch    50  of    354.\n",
            "  Batch   100  of    354.\n",
            "  Batch   150  of    354.\n",
            "  Batch   200  of    354.\n",
            "  Batch   250  of    354.\n",
            "  Batch   300  of    354.\n",
            "  Batch   350  of    354.\n",
            "\n",
            "Evaluating...\n",
            "  Batch    50  of     76.\n",
            "\n",
            "Training Accuracy: 0.670\n",
            "Training Loss: 1.215\n",
            "Validation Accuracy: 0.777\n",
            "Validation Loss: 0.823\n",
            "\n",
            " Epoch 2 / 10\n",
            "  Batch    50  of    354.\n",
            "  Batch   100  of    354.\n",
            "  Batch   150  of    354.\n",
            "  Batch   200  of    354.\n",
            "  Batch   250  of    354.\n",
            "  Batch   300  of    354.\n",
            "  Batch   350  of    354.\n",
            "\n",
            "Evaluating...\n",
            "  Batch    50  of     76.\n",
            "\n",
            "Training Accuracy: 0.831\n",
            "Training Loss: 0.617\n",
            "Validation Accuracy: 0.810\n",
            "Validation Loss: 0.678\n",
            "\n",
            " Epoch 3 / 10\n",
            "  Batch    50  of    354.\n",
            "  Batch   100  of    354.\n",
            "  Batch   150  of    354.\n",
            "  Batch   200  of    354.\n",
            "  Batch   250  of    354.\n",
            "  Batch   300  of    354.\n",
            "  Batch   350  of    354.\n",
            "\n",
            "Evaluating...\n",
            "  Batch    50  of     76.\n",
            "\n",
            "Training Accuracy: 0.895\n",
            "Training Loss: 0.387\n",
            "Validation Accuracy: 0.821\n",
            "Validation Loss: 0.656\n",
            "\n",
            " Epoch 4 / 10\n",
            "  Batch    50  of    354.\n",
            "  Batch   100  of    354.\n",
            "  Batch   150  of    354.\n",
            "  Batch   200  of    354.\n",
            "  Batch   250  of    354.\n",
            "  Batch   300  of    354.\n",
            "  Batch   350  of    354.\n",
            "\n",
            "Evaluating...\n",
            "  Batch    50  of     76.\n",
            "\n",
            "Training Accuracy: 0.930\n",
            "Training Loss: 0.257\n",
            "Validation Accuracy: 0.820\n",
            "Validation Loss: 0.731\n",
            "\n",
            " Epoch 5 / 10\n",
            "  Batch    50  of    354.\n",
            "  Batch   100  of    354.\n",
            "  Batch   150  of    354.\n",
            "  Batch   200  of    354.\n",
            "  Batch   250  of    354.\n",
            "  Batch   300  of    354.\n",
            "  Batch   350  of    354.\n",
            "\n",
            "Evaluating...\n",
            "  Batch    50  of     76.\n",
            "\n",
            "Training Accuracy: 0.951\n",
            "Training Loss: 0.169\n",
            "Validation Accuracy: 0.835\n",
            "Validation Loss: 0.751\n",
            "\n",
            " Epoch 6 / 10\n",
            "  Batch    50  of    354.\n",
            "  Batch   100  of    354.\n",
            "  Batch   150  of    354.\n",
            "  Batch   200  of    354.\n",
            "  Batch   250  of    354.\n",
            "  Batch   300  of    354.\n",
            "  Batch   350  of    354.\n",
            "\n",
            "Evaluating...\n",
            "  Batch    50  of     76.\n",
            "\n",
            "Training Accuracy: 0.962\n",
            "Training Loss: 0.126\n",
            "Validation Accuracy: 0.824\n",
            "Validation Loss: 0.784\n",
            "\n",
            " Epoch 7 / 10\n",
            "  Batch    50  of    354.\n",
            "  Batch   100  of    354.\n",
            "  Batch   150  of    354.\n",
            "  Batch   200  of    354.\n",
            "  Batch   250  of    354.\n",
            "  Batch   300  of    354.\n",
            "  Batch   350  of    354.\n",
            "\n",
            "Evaluating...\n",
            "  Batch    50  of     76.\n",
            "\n",
            "Training Accuracy: 0.968\n",
            "Training Loss: 0.100\n",
            "Validation Accuracy: 0.810\n",
            "Validation Loss: 0.908\n",
            "\n",
            " Epoch 8 / 10\n",
            "  Batch    50  of    354.\n",
            "  Batch   100  of    354.\n",
            "  Batch   150  of    354.\n",
            "  Batch   200  of    354.\n",
            "  Batch   250  of    354.\n",
            "  Batch   300  of    354.\n",
            "  Batch   350  of    354.\n",
            "\n",
            "Evaluating...\n",
            "  Batch    50  of     76.\n",
            "\n",
            "Training Accuracy: 0.974\n",
            "Training Loss: 0.081\n",
            "Validation Accuracy: 0.823\n",
            "Validation Loss: 0.906\n",
            "\n",
            " Epoch 9 / 10\n",
            "  Batch    50  of    354.\n",
            "  Batch   100  of    354.\n",
            "  Batch   150  of    354.\n",
            "  Batch   200  of    354.\n",
            "  Batch   250  of    354.\n",
            "  Batch   300  of    354.\n",
            "  Batch   350  of    354.\n",
            "\n",
            "Evaluating...\n",
            "  Batch    50  of     76.\n",
            "\n",
            "Training Accuracy: 0.976\n",
            "Training Loss: 0.073\n",
            "Validation Accuracy: 0.818\n",
            "Validation Loss: 0.990\n",
            "\n",
            " Epoch 10 / 10\n",
            "  Batch    50  of    354.\n",
            "  Batch   100  of    354.\n",
            "  Batch   150  of    354.\n",
            "  Batch   200  of    354.\n",
            "  Batch   250  of    354.\n",
            "  Batch   300  of    354.\n",
            "  Batch   350  of    354.\n",
            "\n",
            "Evaluating...\n",
            "  Batch    50  of     76.\n",
            "\n",
            "Training Accuracy: 0.978\n",
            "Training Loss: 0.068\n",
            "Validation Accuracy: 0.828\n",
            "Validation Loss: 0.983\n"
          ]
        }
      ],
      "source": [
        "# set initial loss to infinite\n",
        "best_valid_loss = float('inf')\n",
        "\n",
        "# empty lists to store training and validation loss of each epoch\n",
        "train_losses=[]\n",
        "valid_losses=[]\n",
        "train_accs = []\n",
        "valid_accs = []\n",
        "\n",
        "#for each epoch\n",
        "for epoch in range(epochs):\n",
        "     \n",
        "    print('\\n Epoch {:} / {:}'.format(epoch + 1, epochs))\n",
        "    \n",
        "    #train model\n",
        "    train_loss, train_acc, total_pred = train()\n",
        "    #evaluate model\n",
        "    valid_loss, valid_acc, total_pred = evaluate()\n",
        "    \n",
        "    #save the best model\n",
        "    if valid_loss < best_valid_loss:\n",
        "        best_valid_loss = valid_loss\n",
        "        model.save_pretrained(\"../ml-models\")\n",
        "    \n",
        "    # append training and validation loss\n",
        "    train_losses.append(train_loss)\n",
        "    valid_losses.append(valid_loss)\n",
        "    train_accs.append(train_acc)\n",
        "    valid_accs.append(valid_acc)\n",
        "  \n",
        "    print(f'\\nTraining Accuracy: {train_acc:.3f}')\n",
        "    print(f'Training Loss: {train_loss:.3f}')\n",
        "    print(f'Validation Accuracy: {valid_acc:.3f}')\n",
        "    print(f'Validation Loss: {valid_loss:.3f}')"
      ]
    },
    {
      "cell_type": "code",
      "execution_count": 16,
      "metadata": {
        "id": "S7AE5_49uEYV"
      },
      "outputs": [],
      "source": [
        "# Free cache gpu memory\n",
        "torch.cuda.empty_cache()"
      ]
    }
  ],
  "metadata": {
    "accelerator": "GPU",
    "colab": {
      "provenance": []
    },
    "gpuClass": "standard",
    "kernelspec": {
      "display_name": "Python 3",
      "language": "python",
      "name": "python3"
    },
    "language_info": {
      "codemirror_mode": {
        "name": "ipython",
        "version": 3
      },
      "file_extension": ".py",
      "mimetype": "text/x-python",
      "name": "python",
      "nbconvert_exporter": "python",
      "pygments_lexer": "ipython3",
      "version": "3.7.4"
    },
    "orig_nbformat": 4
  },
  "nbformat": 4,
  "nbformat_minor": 0
}
